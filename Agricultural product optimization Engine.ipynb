{
 "cells": [
  {
   "cell_type": "markdown",
   "id": "9e7dcdac",
   "metadata": {},
   "source": [
    "# Achieve Precision farming by optimizing the agricultural production."
   ]
  },
  {
   "cell_type": "raw",
   "id": "904b60cd",
   "metadata": {},
   "source": [
    " Build a predictive model so as to suggest the suitable Crop to based on the available climatic and soil conditions."
   ]
  },
  {
   "cell_type": "markdown",
   "id": "10bf4e55",
   "metadata": {},
   "source": [
    "# Importing Libraries"
   ]
  },
  {
   "cell_type": "code",
   "execution_count": 1,
   "id": "defc5325",
   "metadata": {},
   "outputs": [],
   "source": [
    "# for manipulation\n",
    "import numpy as np\n",
    "import pandas as pd\n",
    "\n",
    "# for data visualisation\n",
    "import matplotlib.pyplot as plt\n",
    "%matplotlib inline\n",
    "import seaborn as sns\n",
    "\n",
    "# for interactivity \n",
    "from ipywidgets import interact"
   ]
  },
  {
   "cell_type": "code",
   "execution_count": 2,
   "id": "9cee0256",
   "metadata": {},
   "outputs": [],
   "source": [
    "# read dataset\n",
    "data=pd.read_csv('Agri.csv')"
   ]
  },
  {
   "cell_type": "code",
   "execution_count": 3,
   "id": "f613b539",
   "metadata": {},
   "outputs": [
    {
     "name": "stdout",
     "output_type": "stream",
     "text": [
      "Shape of the dataset: (2200, 8)\n"
     ]
    }
   ],
   "source": [
    "# check shape of dataset\n",
    "print(\"Shape of the dataset:\",data.shape)"
   ]
  },
  {
   "cell_type": "code",
   "execution_count": 4,
   "id": "1c708cb2",
   "metadata": {},
   "outputs": [
    {
     "data": {
      "text/html": [
       "<div>\n",
       "<style scoped>\n",
       "    .dataframe tbody tr th:only-of-type {\n",
       "        vertical-align: middle;\n",
       "    }\n",
       "\n",
       "    .dataframe tbody tr th {\n",
       "        vertical-align: top;\n",
       "    }\n",
       "\n",
       "    .dataframe thead th {\n",
       "        text-align: right;\n",
       "    }\n",
       "</style>\n",
       "<table border=\"1\" class=\"dataframe\">\n",
       "  <thead>\n",
       "    <tr style=\"text-align: right;\">\n",
       "      <th></th>\n",
       "      <th>N</th>\n",
       "      <th>P</th>\n",
       "      <th>K</th>\n",
       "      <th>temperature</th>\n",
       "      <th>humidity</th>\n",
       "      <th>ph</th>\n",
       "      <th>rainfall</th>\n",
       "      <th>label</th>\n",
       "    </tr>\n",
       "  </thead>\n",
       "  <tbody>\n",
       "    <tr>\n",
       "      <th>0</th>\n",
       "      <td>90</td>\n",
       "      <td>42</td>\n",
       "      <td>43</td>\n",
       "      <td>20.879744</td>\n",
       "      <td>82.002744</td>\n",
       "      <td>6.502985</td>\n",
       "      <td>202.935536</td>\n",
       "      <td>rice</td>\n",
       "    </tr>\n",
       "    <tr>\n",
       "      <th>1</th>\n",
       "      <td>85</td>\n",
       "      <td>58</td>\n",
       "      <td>41</td>\n",
       "      <td>21.770462</td>\n",
       "      <td>80.319644</td>\n",
       "      <td>7.038096</td>\n",
       "      <td>226.655537</td>\n",
       "      <td>rice</td>\n",
       "    </tr>\n",
       "    <tr>\n",
       "      <th>2</th>\n",
       "      <td>60</td>\n",
       "      <td>55</td>\n",
       "      <td>44</td>\n",
       "      <td>23.004459</td>\n",
       "      <td>82.320763</td>\n",
       "      <td>7.840207</td>\n",
       "      <td>263.964248</td>\n",
       "      <td>rice</td>\n",
       "    </tr>\n",
       "    <tr>\n",
       "      <th>3</th>\n",
       "      <td>74</td>\n",
       "      <td>35</td>\n",
       "      <td>40</td>\n",
       "      <td>26.491096</td>\n",
       "      <td>80.158363</td>\n",
       "      <td>6.980401</td>\n",
       "      <td>242.864034</td>\n",
       "      <td>rice</td>\n",
       "    </tr>\n",
       "    <tr>\n",
       "      <th>4</th>\n",
       "      <td>78</td>\n",
       "      <td>42</td>\n",
       "      <td>42</td>\n",
       "      <td>20.130175</td>\n",
       "      <td>81.604873</td>\n",
       "      <td>7.628473</td>\n",
       "      <td>262.717340</td>\n",
       "      <td>rice</td>\n",
       "    </tr>\n",
       "  </tbody>\n",
       "</table>\n",
       "</div>"
      ],
      "text/plain": [
       "    N   P   K  temperature   humidity        ph    rainfall label\n",
       "0  90  42  43    20.879744  82.002744  6.502985  202.935536  rice\n",
       "1  85  58  41    21.770462  80.319644  7.038096  226.655537  rice\n",
       "2  60  55  44    23.004459  82.320763  7.840207  263.964248  rice\n",
       "3  74  35  40    26.491096  80.158363  6.980401  242.864034  rice\n",
       "4  78  42  42    20.130175  81.604873  7.628473  262.717340  rice"
      ]
     },
     "execution_count": 4,
     "metadata": {},
     "output_type": "execute_result"
    }
   ],
   "source": [
    "# check head of dataset\n",
    "data.head()"
   ]
  },
  {
   "cell_type": "code",
   "execution_count": 5,
   "id": "0f8b69ab",
   "metadata": {},
   "outputs": [
    {
     "data": {
      "text/plain": [
       "N              0\n",
       "P              0\n",
       "K              0\n",
       "temperature    0\n",
       "humidity       0\n",
       "ph             0\n",
       "rainfall       0\n",
       "label          0\n",
       "dtype: int64"
      ]
     },
     "execution_count": 5,
     "metadata": {},
     "output_type": "execute_result"
    }
   ],
   "source": [
    "# to check missing values\n",
    "data.isnull().sum()"
   ]
  },
  {
   "cell_type": "code",
   "execution_count": 6,
   "id": "57df539a",
   "metadata": {},
   "outputs": [
    {
     "data": {
      "text/plain": [
       "rice           100\n",
       "maize          100\n",
       "jute           100\n",
       "cotton         100\n",
       "coconut        100\n",
       "papaya         100\n",
       "orange         100\n",
       "apple          100\n",
       "muskmelon      100\n",
       "watermelon     100\n",
       "grapes         100\n",
       "mango          100\n",
       "banana         100\n",
       "pomegranate    100\n",
       "lentil         100\n",
       "blackgram      100\n",
       "mungbean       100\n",
       "mothbeans      100\n",
       "pigeonpeas     100\n",
       "kidneybeans    100\n",
       "chickpea       100\n",
       "coffee         100\n",
       "Name: label, dtype: int64"
      ]
     },
     "execution_count": 6,
     "metadata": {},
     "output_type": "execute_result"
    }
   ],
   "source": [
    "# Let's check crops present in the dataset\n",
    "data['label'].value_counts()"
   ]
  },
  {
   "cell_type": "code",
   "execution_count": 10,
   "id": "23ccb2ce",
   "metadata": {},
   "outputs": [
    {
     "name": "stdout",
     "output_type": "stream",
     "text": [
      "Average Ratio of Nitrogen in the Soil:(0:.2f) 50.551818181818184\n",
      "Average Ratio of Phosphorus in the Soil:(0:.2f) 53.36272727272727\n",
      "Average Ratio of Potassium in the Soil:(0:.2f) 48.14909090909091\n",
      "Average temperature in celsius:(0:.2f) 25.616243851779544\n",
      "Average relative humidity in percentage:(0:.2f) 71.48177921778637\n",
      "Average PH value of the soil:(0:.2f) 6.469480065256364\n",
      "Average Rainfall in mm:(0:.2f) 103.46365541576817\n"
     ]
    }
   ],
   "source": [
    "# Let's check summary of all Crops\n",
    "print(\"Average Ratio of Nitrogen in the Soil:(0:.2f)\",format(data['N'].mean()))\n",
    "print(\"Average Ratio of Phosphorus in the Soil:(0:.2f)\",format(data['P'].mean()))\n",
    "print(\"Average Ratio of Potassium in the Soil:(0:.2f)\",format(data['K'].mean()))\n",
    "print(\"Average temperature in celsius:(0:.2f)\",format(data['temperature'].mean()))\n",
    "print(\"Average relative humidity in percentage:(0:.2f)\",format(data['humidity'].mean()))\n",
    "print(\"Average PH value of the soil:(0:.2f)\",format(data['ph'].mean()))\n",
    "print(\"Average Rainfall in mm:(0:.2f)\",format(data['rainfall'].mean()))"
   ]
  },
  {
   "cell_type": "code",
   "execution_count": 13,
   "id": "e80364dd",
   "metadata": {},
   "outputs": [
    {
     "data": {
      "application/vnd.jupyter.widget-view+json": {
       "model_id": "a93c6f158a6a4fd3938810f8dc374807",
       "version_major": 2,
       "version_minor": 0
      },
      "text/plain": [
       "interactive(children=(Dropdown(description='crops', options=('rice', 'maize', 'jute', 'cotton', 'coconut', 'pa…"
      ]
     },
     "metadata": {},
     "output_type": "display_data"
    }
   ],
   "source": [
    "# Let's check sumary statastics for each crop\n",
    "\n",
    "@interact\n",
    "\n",
    "def summary(crops=list(data['label'].value_counts().index)):\n",
    "    x=data[data['label']==crops]\n",
    "    print(\"----------------------------------------\")\n",
    "    print(\"Statistics for Nitrogen\")\n",
    "    print(\"Minimum Nitrogen required:\",x['N'].min())\n",
    "    print(\"Average Nitrogen required:\",x['N'].mean())\n",
    "    print(\"Maximum Nitrogen required:\",x['N'].max())\n",
    "    print(\"-----------------------------------------\")\n",
    "    print(\"Statistics for Phosphorus\")\n",
    "    print(\"Minimum Phosphorus required:\",x['P'].min())\n",
    "    print(\"Average Phosphorus required:\",x['P'].mean())\n",
    "    print(\"Maximum Phosphorus required:\",x['P'].max())\n",
    "    print(\"-----------------------------------------\")\n",
    "    print(\"Statistics for Potassium\")\n",
    "    print(\"Minimum Potassium required:\",x['K'].min())\n",
    "    print(\"Average Potassium required:\",x['K'].mean())\n",
    "    print(\"Maximum Potassium required:\",x['K'].max())\n",
    "    print(\"-----------------------------------------\")\n",
    "    print(\"Statistics for temperature\")\n",
    "    print(\"Minimum temperature required:\",x['temperature'].min())\n",
    "    print(\"Average temperature required:\",x['temperature'].mean())\n",
    "    print(\"Maximum temperature required:\",x['temperature'].max())\n",
    "    print(\"-----------------------------------------\")\n",
    "    print(\"Statistics for humidity\")\n",
    "    print(\"Minimum humidity required:\",x['humidity'].min())\n",
    "    print(\"Average humidity required:\",x['humidity'].mean())\n",
    "    print(\"Maximum humidity required:\",x['humidity'].max())\n",
    "    print(\"-----------------------------------------\")\n",
    "    print(\"Statistics for PH value\")\n",
    "    print(\"Minimum PH value required:\",x['ph'].min())\n",
    "    print(\"Average PH value required:\",x['ph'].mean())\n",
    "    print(\"Maximum PH value required:\",x['ph'].max())\n",
    "    print(\"-----------------------------------------\")\n",
    "    print(\"Statistics for rainfall\")\n",
    "    print(\"Minimum rainfall required:\",x['rainfall'].min())\n",
    "    print(\"Average rainfall required:\",x['rainfall'].mean())\n",
    "    print(\"Maximum rainfall required:\",x['rainfall'].max())\n",
    "    print(\"-----------------------------------------\")\n"
   ]
  },
  {
   "cell_type": "code",
   "execution_count": 18,
   "id": "66d0acc4",
   "metadata": {},
   "outputs": [
    {
     "data": {
      "application/vnd.jupyter.widget-view+json": {
       "model_id": "62324cdf13a6499d8781e0d8ae38ab97",
       "version_major": 2,
       "version_minor": 0
      },
      "text/plain": [
       "interactive(children=(Dropdown(description='conditions', options=('N', 'P', 'K', 'temperature', 'humidity', 'p…"
      ]
     },
     "metadata": {},
     "output_type": "display_data"
    }
   ],
   "source": [
    "#Let's compare average requirement of each crop with average conditions\n",
    "\n",
    "@interact\n",
    "\n",
    "def compare(conditions = ['N','P','K','temperature','humidity','ph','rainfall',]):\n",
    "    print(\"Average value for:\",conditions,\"is (0:0.2f)\",format(data[conditions].mean()))\n",
    "    print(\"-------------------------------------------------\")\n",
    "    print(\"Rice: (0:0.2f)\",format(data[(data['label']=='rice')][conditions].mean()))\n",
    "    print(\"Maize: (0:0.2f)\",format(data[(data['label']=='maize')][conditions].mean()))\n",
    "    print(\"Jute: (0:0.2f)\",format(data[(data['label']=='jute')][conditions].mean()))\n",
    "    print(\"Coconut: (0:0.2f)\",format(data[(data['label']=='coconut')][conditions].mean()))\n",
    "    print(\"Papaya: (0:0.2f)\",format(data[(data['label']=='papaya')][conditions].mean()))\n",
    "    print(\"Orange: (0:0.2f)\",format(data[(data['label']=='orange')][conditions].mean()))\n",
    "    print(\"Apple: (0:0.2f)\",format(data[(data['label']=='apple')][conditions].mean()))\n",
    "    print(\"Muskmelon: (0:0.2f)\",format(data[(data['label']=='muskmelon')][conditions].mean()))\n",
    "    print(\"Watermelon: (0:0.2f)\",format(data[(data['label']=='watermelon')][conditions].mean()))\n",
    "    print(\"grapes: (0:0.2f)\",format(data[(data['label']=='grapes')][conditions].mean()))\n",
    "    print(\"Mango: (0:0.2f)\",format(data[(data['label']=='mango')][conditions].mean()))\n",
    "    print(\"Banana: (0:0.2f)\",format(data[(data['label']=='banana')][conditions].mean()))\n",
    "    print(\"Pomegranate: (0:0.2f)\",format(data[(data['label']=='pomegranate')][conditions].mean()))\n",
    "    print(\"lentil: (0:0.2f)\",format(data[(data['label']=='lentil')][conditions].mean()))\n",
    "    print(\"Blackgram: (0:0.2f)\",format(data[(data['label']=='blackgram')][conditions].mean()))\n",
    "    print(\"Mungbean: (0:0.2f)\",format(data[(data['label']=='mungbean')][conditions].mean()))\n",
    "    print(\"Mothbeans: (0:0.2f)\",format(data[(data['label']=='mothbeans')][conditions].mean()))\n",
    "    print(\"Pigeonpeas: (0:0.2f)\",format(data[(data['label']=='pigeonpeas')][conditions].mean()))\n",
    "    print(\"Kidneybeans: (0:0.2f)\",format(data[(data['label']=='kidneybeans')][conditions].mean()))\n",
    "    print(\"Chickpea: (0:0.2f)\",format(data[(data['label']=='chickpea')][conditions].mean()))\n",
    "    print(\"Coffee: (0:0.2f)\",format(data[(data['label']=='coffee')][conditions].mean()))"
   ]
  },
  {
   "cell_type": "code",
   "execution_count": 20,
   "id": "fa019f61",
   "metadata": {},
   "outputs": [
    {
     "data": {
      "application/vnd.jupyter.widget-view+json": {
       "model_id": "7f83d014431e437dad8f1e0da4ba0671",
       "version_major": 2,
       "version_minor": 0
      },
      "text/plain": [
       "interactive(children=(Dropdown(description='conditions', options=('N', 'P', 'K', 'temperature', 'humidity', 'p…"
      ]
     },
     "metadata": {},
     "output_type": "display_data"
    }
   ],
   "source": [
    "@interact\n",
    "def compare(conditions =['N','P','K','temperature','humidity','ph','rainfall',]):\n",
    "    print(\"crops with require greater than average\", conditions ,'\\n')\n",
    "    print(data[data[conditions] > data[conditions].mean()]['label'].unique())\n",
    "    print(\"--------------------------------------------\")\n",
    "    print(\"crops with require less than average\", conditions ,'\\n')\n",
    "    print(data[data[conditions] <= data[conditions].mean()]['label'].unique())"
   ]
  },
  {
   "cell_type": "markdown",
   "id": "21c11d61",
   "metadata": {},
   "source": [
    "# Distribution"
   ]
  },
  {
   "cell_type": "code",
   "execution_count": 25,
   "id": "9ec27dc9",
   "metadata": {},
   "outputs": [
    {
     "name": "stderr",
     "output_type": "stream",
     "text": [
      "C:\\Users\\Admin\\AppData\\Local\\Temp\\ipykernel_4444\\2937747290.py:5: UserWarning: \n",
      "\n",
      "`distplot` is a deprecated function and will be removed in seaborn v0.14.0.\n",
      "\n",
      "Please adapt your code to use either `displot` (a figure-level function with\n",
      "similar flexibility) or `histplot` (an axes-level function for histograms).\n",
      "\n",
      "For a guide to updating your code to use the new functions, please see\n",
      "https://gist.github.com/mwaskom/de44147ed2974457ad6372750bbe5751\n",
      "\n",
      "  sns.distplot(data['N'], color = 'lightgrey')\n",
      "C:\\Users\\Admin\\AppData\\Local\\Temp\\ipykernel_4444\\2937747290.py:10: UserWarning: \n",
      "\n",
      "`distplot` is a deprecated function and will be removed in seaborn v0.14.0.\n",
      "\n",
      "Please adapt your code to use either `displot` (a figure-level function with\n",
      "similar flexibility) or `histplot` (an axes-level function for histograms).\n",
      "\n",
      "For a guide to updating your code to use the new functions, please see\n",
      "https://gist.github.com/mwaskom/de44147ed2974457ad6372750bbe5751\n",
      "\n",
      "  sns.distplot(data['P'], color = 'skyblue')\n",
      "C:\\Users\\Admin\\AppData\\Local\\Temp\\ipykernel_4444\\2937747290.py:15: UserWarning: \n",
      "\n",
      "`distplot` is a deprecated function and will be removed in seaborn v0.14.0.\n",
      "\n",
      "Please adapt your code to use either `displot` (a figure-level function with\n",
      "similar flexibility) or `histplot` (an axes-level function for histograms).\n",
      "\n",
      "For a guide to updating your code to use the new functions, please see\n",
      "https://gist.github.com/mwaskom/de44147ed2974457ad6372750bbe5751\n",
      "\n",
      "  sns.distplot(data['K'], color = 'yellow')\n",
      "C:\\Users\\Admin\\AppData\\Local\\Temp\\ipykernel_4444\\2937747290.py:20: UserWarning: \n",
      "\n",
      "`distplot` is a deprecated function and will be removed in seaborn v0.14.0.\n",
      "\n",
      "Please adapt your code to use either `displot` (a figure-level function with\n",
      "similar flexibility) or `histplot` (an axes-level function for histograms).\n",
      "\n",
      "For a guide to updating your code to use the new functions, please see\n",
      "https://gist.github.com/mwaskom/de44147ed2974457ad6372750bbe5751\n",
      "\n",
      "  sns.distplot(data['temperature'], color = 'purple')\n",
      "C:\\Users\\Admin\\AppData\\Local\\Temp\\ipykernel_4444\\2937747290.py:25: UserWarning: \n",
      "\n",
      "`distplot` is a deprecated function and will be removed in seaborn v0.14.0.\n",
      "\n",
      "Please adapt your code to use either `displot` (a figure-level function with\n",
      "similar flexibility) or `histplot` (an axes-level function for histograms).\n",
      "\n",
      "For a guide to updating your code to use the new functions, please see\n",
      "https://gist.github.com/mwaskom/de44147ed2974457ad6372750bbe5751\n",
      "\n",
      "  sns.distplot(data['ph'], color = 'pink')\n",
      "C:\\Users\\Admin\\AppData\\Local\\Temp\\ipykernel_4444\\2937747290.py:30: UserWarning: \n",
      "\n",
      "`distplot` is a deprecated function and will be removed in seaborn v0.14.0.\n",
      "\n",
      "Please adapt your code to use either `displot` (a figure-level function with\n",
      "similar flexibility) or `histplot` (an axes-level function for histograms).\n",
      "\n",
      "For a guide to updating your code to use the new functions, please see\n",
      "https://gist.github.com/mwaskom/de44147ed2974457ad6372750bbe5751\n",
      "\n",
      "  sns.distplot(data['rainfall'], color = 'blue')\n"
     ]
    },
    {
     "data": {
      "image/png": "[encoded data removed]",
      "text/plain": [
       "<Figure size 1500x700 with 6 Axes>"
      ]
     },
     "metadata": {},
     "output_type": "display_data"
    }
   ],
   "source": [
    "# check the distribution of agricultural conditions\n",
    "plt.rcParams['figure.figsize'] = (15,7)\n",
    "\n",
    "plt.subplot(2, 4, 1)\n",
    "sns.distplot(data['N'], color = 'lightgrey')\n",
    "plt.xlabel('Ration of Nitrogen',fontsize = 12)\n",
    "plt.grid()\n",
    "\n",
    "plt.subplot(2, 4, 2)\n",
    "sns.distplot(data['P'], color = 'skyblue')\n",
    "plt.xlabel('Ration of Phosphorus',fontsize = 12)\n",
    "plt.grid()\n",
    "\n",
    "plt.subplot(2, 4, 3)\n",
    "sns.distplot(data['K'], color = 'yellow')\n",
    "plt.xlabel('Ration of potassium ',fontsize = 12)\n",
    "plt.grid()\n",
    "\n",
    "plt.subplot(2, 4, 4)\n",
    "sns.distplot(data['temperature'], color = 'purple')\n",
    "plt.xlabel('Ration of temperature ',fontsize = 12)\n",
    "plt.grid()\n",
    "\n",
    "plt.subplot(2, 4, 5)\n",
    "sns.distplot(data['ph'], color = 'pink')\n",
    "plt.xlabel('Ration of PH ',fontsize = 12)\n",
    "plt.grid()\n",
    "\n",
    "plt.subplot(2, 4, 6)\n",
    "sns.distplot(data['rainfall'], color = 'blue')\n",
    "plt.xlabel('Ration of rainfall ',fontsize = 12)\n",
    "plt.grid()\n"
   ]
  },
  {
   "cell_type": "code",
   "execution_count": 29,
   "id": "8a917988",
   "metadata": {},
   "outputs": [
    {
     "name": "stdout",
     "output_type": "stream",
     "text": [
      "some Interasting patterns\n",
      "--------------------------------------\n",
      "Crops which require very high ratio of Nitrogen content in the soil ['cotton']\n",
      "Crops which require very high ratio of Phosphorus content in the soil ['grapes' 'apple']\n",
      "Crops which require very high ratio of Potassium content in the soil ['grapes' 'apple']\n",
      "Crops which require very high rainfall ['rice' 'papaya' 'coconut']\n",
      "Crops which require very low temperature ['grapes' 'papaya']\n",
      "Crops which require very high temperature []\n",
      "Crops which require very low humidity ['chickpea' 'kidneybeans']\n",
      "Crops which require very low PH ['mothbeans']\n",
      "Crops which require very high PH ['mothbeans']\n"
     ]
    }
   ],
   "source": [
    "#finding out some facts\n",
    "print(\"some Interasting patterns\")\n",
    "print(\"--------------------------------------\")\n",
    "print(\"Crops which require very high ratio of Nitrogen content in the soil\",data[data['N'] > 120]['label'].unique())\n",
    "print(\"Crops which require very high ratio of Phosphorus content in the soil\",data[data['P'] > 100]['label'].unique())\n",
    "print(\"Crops which require very high ratio of Potassium content in the soil\",data[data['K'] > 200]['label'].unique())\n",
    "print(\"Crops which require very high rainfall\",data[data['rainfall'] > 200]['label'].unique())\n",
    "print(\"Crops which require very low temperature\",data[data['temperature'] > 40]['label'].unique())\n",
    "print(\"Crops which require very high temperature\",data[data['temperature']>120]['label'].unique())\n",
    "print(\"Crops which require very low humidity\",data[data['humidity'] < 20]['label'].unique())\n",
    "print(\"Crops which require very low PH\",data[data['ph'] < 4]['label'].unique())\n",
    "print(\"Crops which require very high PH\",data[data['ph'] > 9]['label'].unique())"
   ]
  },
  {
   "cell_type": "code",
   "execution_count": 32,
   "id": "554ae749",
   "metadata": {},
   "outputs": [
    {
     "name": "stdout",
     "output_type": "stream",
     "text": [
      "summer crops\n",
      "['pigeonpeas' 'mothbeans' 'blackgram' 'mango' 'grapes' 'orange' 'papaya']\n",
      "winter crops\n",
      "['maize' 'pigeonpeas' 'lentil' 'pomegranate' 'grapes' 'orange']\n",
      "rainy crops\n",
      "['rice' 'papaya' 'coconut']\n"
     ]
    }
   ],
   "source": [
    "# to check which crops will grown as per season\n",
    "print(\"summer crops\")\n",
    "print(data[(data['temperature'] > 30) & (data['humidity'] > 50)]['label'].unique())\n",
    "print(\"winter crops\")\n",
    "print(data[(data['temperature'] < 20) & (data['humidity'] > 30)]['label'].unique())\n",
    "print(\"rainy crops\")\n",
    "print(data[(data['rainfall'] > 200) & (data['humidity'] > 30)]['label'].unique())"
   ]
  },
  {
   "cell_type": "code",
   "execution_count": 39,
   "id": "8d3f421e",
   "metadata": {},
   "outputs": [
    {
     "name": "stdout",
     "output_type": "stream",
     "text": [
      "(2200, 8)\n"
     ]
    },
    {
     "data": {
      "text/html": [
       "<div>\n",
       "<style scoped>\n",
       "    .dataframe tbody tr th:only-of-type {\n",
       "        vertical-align: middle;\n",
       "    }\n",
       "\n",
       "    .dataframe tbody tr th {\n",
       "        vertical-align: top;\n",
       "    }\n",
       "\n",
       "    .dataframe thead th {\n",
       "        text-align: right;\n",
       "    }\n",
       "</style>\n",
       "<table border=\"1\" class=\"dataframe\">\n",
       "  <thead>\n",
       "    <tr style=\"text-align: right;\">\n",
       "      <th></th>\n",
       "      <th>0</th>\n",
       "      <th>1</th>\n",
       "      <th>2</th>\n",
       "      <th>3</th>\n",
       "      <th>4</th>\n",
       "      <th>5</th>\n",
       "      <th>6</th>\n",
       "      <th>7</th>\n",
       "    </tr>\n",
       "  </thead>\n",
       "  <tbody>\n",
       "    <tr>\n",
       "      <th>0</th>\n",
       "      <td>90.0</td>\n",
       "      <td>42.0</td>\n",
       "      <td>43.0</td>\n",
       "      <td>20.879744</td>\n",
       "      <td>82.002744</td>\n",
       "      <td>82.002744</td>\n",
       "      <td>6.502985</td>\n",
       "      <td>202.935536</td>\n",
       "    </tr>\n",
       "    <tr>\n",
       "      <th>1</th>\n",
       "      <td>85.0</td>\n",
       "      <td>58.0</td>\n",
       "      <td>41.0</td>\n",
       "      <td>21.770462</td>\n",
       "      <td>80.319644</td>\n",
       "      <td>80.319644</td>\n",
       "      <td>7.038096</td>\n",
       "      <td>226.655537</td>\n",
       "    </tr>\n",
       "    <tr>\n",
       "      <th>2</th>\n",
       "      <td>60.0</td>\n",
       "      <td>55.0</td>\n",
       "      <td>44.0</td>\n",
       "      <td>23.004459</td>\n",
       "      <td>82.320763</td>\n",
       "      <td>82.320763</td>\n",
       "      <td>7.840207</td>\n",
       "      <td>263.964248</td>\n",
       "    </tr>\n",
       "    <tr>\n",
       "      <th>3</th>\n",
       "      <td>74.0</td>\n",
       "      <td>35.0</td>\n",
       "      <td>40.0</td>\n",
       "      <td>26.491096</td>\n",
       "      <td>80.158363</td>\n",
       "      <td>80.158363</td>\n",
       "      <td>6.980401</td>\n",
       "      <td>242.864034</td>\n",
       "    </tr>\n",
       "    <tr>\n",
       "      <th>4</th>\n",
       "      <td>78.0</td>\n",
       "      <td>42.0</td>\n",
       "      <td>42.0</td>\n",
       "      <td>20.130175</td>\n",
       "      <td>81.604873</td>\n",
       "      <td>81.604873</td>\n",
       "      <td>7.628473</td>\n",
       "      <td>262.717340</td>\n",
       "    </tr>\n",
       "  </tbody>\n",
       "</table>\n",
       "</div>"
      ],
      "text/plain": [
       "      0     1     2          3          4          5         6           7\n",
       "0  90.0  42.0  43.0  20.879744  82.002744  82.002744  6.502985  202.935536\n",
       "1  85.0  58.0  41.0  21.770462  80.319644  80.319644  7.038096  226.655537\n",
       "2  60.0  55.0  44.0  23.004459  82.320763  82.320763  7.840207  263.964248\n",
       "3  74.0  35.0  40.0  26.491096  80.158363  80.158363  6.980401  242.864034\n",
       "4  78.0  42.0  42.0  20.130175  81.604873  81.604873  7.628473  262.717340"
      ]
     },
     "execution_count": 39,
     "metadata": {},
     "output_type": "execute_result"
    }
   ],
   "source": [
    "# try to cluster out the crops\n",
    "\n",
    "from sklearn.cluster import KMeans\n",
    "import warnings\n",
    "warnings.filterwarnings('ignore')\n",
    "\n",
    "x= data.loc[:, ['N','P','K','temperature','humidity','humidity','ph','rainfall']].values\n",
    "print(x.shape)\n",
    "\n",
    "x_data = pd.DataFrame(x)\n",
    "x_data.head()"
   ]
  },
  {
   "cell_type": "code",
   "execution_count": 46,
   "id": "f339fe6a",
   "metadata": {},
   "outputs": [
    {
     "data": {
      "image/png": "[encoded data removed]",
      "text/plain": [
       "<Figure size 1000x400 with 1 Axes>"
      ]
     },
     "metadata": {},
     "output_type": "display_data"
    }
   ],
   "source": [
    "# determine optimum number of clusters within datset\n",
    "plt.rcParams['figure.figsize'] = (10,4)\n",
    "\n",
    "wcss=[]\n",
    "for i in range(1,11):\n",
    "    kn = KMeans(n_clusters = i, init = 'k-means++', max_iter = 300, n_init = 10, random_state = 0)\n",
    "    kn.fit(x)\n",
    "    wcss.append(kn.inertia_)\n",
    "    \n",
    "# plot the results\n",
    "plt.plot(range(1,11), wcss)    \n",
    "plt.title(\"The Elbow Method\", fontsize = 20)\n",
    "plt.xlabel(\"Number of clusters\")\n",
    "plt.ylabel(\"wcss\")\n",
    "plt.show()"
   ]
  },
  {
   "cell_type": "code",
   "execution_count": 52,
   "id": "02977030",
   "metadata": {},
   "outputs": [
    {
     "name": "stdout",
     "output_type": "stream",
     "text": [
      "Check the result of clustering \n",
      "\n",
      "Crops in First Cluster ['pomegranate' 'orange' 'papaya' 'coconut']\n",
      "----------------------------------------------\n",
      "Crops in second Cluster ['watermelon' 'muskmelon' 'papaya']\n",
      "----------------------------------------------\n",
      "Crops in third Cluster ['rice' 'pigeonpeas' 'papaya' 'coconut' 'jute']\n",
      "----------------------------------------------\n",
      "Crops in Fourth Cluster ['grapes' 'apple']\n"
     ]
    }
   ],
   "source": [
    "# implement K-means clustering\n",
    "kn = KMeans(n_clusters = i, init = 'k-means++', max_iter = 300, n_init = 10, random_state = 0)\n",
    "y_means = kn.fit_predict(x)\n",
    "\n",
    "a = data['label']\n",
    "y_means = pd.DataFrame(y_means)\n",
    "z = pd.concat([y_means, a], axis = 1)\n",
    "z = z.rename(columns = {0: 'cluster'})\n",
    "\n",
    "# check the cluster of each crop\n",
    "print(\"Check the result of clustering \\n\")\n",
    "print(\"Crops in First Cluster\", z[z['cluster'] == 0]['label'].unique())\n",
    "print(\"----------------------------------------------\")\n",
    "print(\"Crops in second Cluster\", z[z['cluster'] == 1]['label'].unique())\n",
    "print(\"----------------------------------------------\")\n",
    "print(\"Crops in third Cluster\", z[z['cluster'] == 2]['label'].unique())\n",
    "print(\"----------------------------------------------\")\n",
    "print(\"Crops in Fourth Cluster\", z[z['cluster'] == 3]['label'].unique())"
   ]
  },
  {
   "cell_type": "code",
   "execution_count": 53,
   "id": "bf48b276",
   "metadata": {},
   "outputs": [
    {
     "name": "stdout",
     "output_type": "stream",
     "text": [
      "Shape of X: (2200, 7)\n",
      "Shape of y: (2200,)\n"
     ]
    }
   ],
   "source": [
    "# split data set for predictive modelling\n",
    "y = data ['label']\n",
    "x = data.drop(['label'], axis = 1)\n",
    "\n",
    "print(\"Shape of X:\", x.shape)\n",
    "print(\"Shape of y:\", y.shape)"
   ]
  },
  {
   "cell_type": "code",
   "execution_count": 56,
   "id": "0ef0a3ea",
   "metadata": {},
   "outputs": [
    {
     "name": "stdout",
     "output_type": "stream",
     "text": [
      "The shape of X-train (1760, 7)\n",
      "The shape of X-test (440, 7)\n",
      "The shape of y_train (1760,)\n",
      "The shape of y_test (440,)\n"
     ]
    }
   ],
   "source": [
    "# create training and testing sets for validation of results\n",
    "from sklearn.model_selection import train_test_split\n",
    "\n",
    "x_train, x_test, y_train, y_test = train_test_split(x, y, test_size=0.2, random_state = 0)\n",
    "\n",
    "print(\"The shape of X-train\",x_train.shape)\n",
    "print(\"The shape of X-test\",x_test.shape)\n",
    "print(\"The shape of y_train\",y_train.shape)\n",
    "print(\"The shape of y_test\",y_test.shape)"
   ]
  },
  {
   "cell_type": "code",
   "execution_count": 57,
   "id": "3511a9d6",
   "metadata": {},
   "outputs": [],
   "source": [
    "#create predictive model\n",
    "from sklearn.linear_model import LogisticRegression\n",
    "\n",
    "model = LogisticRegression()\n",
    "model.fit(x_train,y_train)\n",
    "y_pred = model.predict(x_test)"
   ]
  },
  {
   "cell_type": "code",
   "execution_count": 58,
   "id": "fa4f09ab",
   "metadata": {},
   "outputs": [
    {
     "name": "stdout",
     "output_type": "stream",
     "text": [
      "              precision    recall  f1-score   support\n",
      "\n",
      "       apple       1.00      1.00      1.00        18\n",
      "      banana       1.00      1.00      1.00        18\n",
      "   blackgram       0.86      0.82      0.84        22\n",
      "    chickpea       1.00      1.00      1.00        23\n",
      "     coconut       1.00      1.00      1.00        15\n",
      "      coffee       1.00      1.00      1.00        17\n",
      "      cotton       0.89      1.00      0.94        16\n",
      "      grapes       1.00      1.00      1.00        18\n",
      "        jute       0.84      1.00      0.91        21\n",
      " kidneybeans       1.00      1.00      1.00        20\n",
      "      lentil       0.94      0.94      0.94        17\n",
      "       maize       0.94      0.89      0.91        18\n",
      "       mango       1.00      1.00      1.00        21\n",
      "   mothbeans       0.88      0.92      0.90        25\n",
      "    mungbean       1.00      1.00      1.00        17\n",
      "   muskmelon       1.00      1.00      1.00        23\n",
      "      orange       1.00      1.00      1.00        23\n",
      "      papaya       1.00      0.95      0.98        21\n",
      "  pigeonpeas       1.00      1.00      1.00        22\n",
      " pomegranate       1.00      1.00      1.00        23\n",
      "        rice       1.00      0.84      0.91        25\n",
      "  watermelon       1.00      1.00      1.00        17\n",
      "\n",
      "    accuracy                           0.97       440\n",
      "   macro avg       0.97      0.97      0.97       440\n",
      "weighted avg       0.97      0.97      0.97       440\n",
      "\n"
     ]
    }
   ],
   "source": [
    "# evaluate the model performance\n",
    "from sklearn.metrics import classification_report\n",
    "\n",
    "#print the classification report data\n",
    "cr = classification_report(y_test, y_pred)\n",
    "print(cr)"
   ]
  },
  {
   "cell_type": "code",
   "execution_count": 59,
   "id": "33b490d6",
   "metadata": {},
   "outputs": [
    {
     "data": {
      "text/html": [
       "<div>\n",
       "<style scoped>\n",
       "    .dataframe tbody tr th:only-of-type {\n",
       "        vertical-align: middle;\n",
       "    }\n",
       "\n",
       "    .dataframe tbody tr th {\n",
       "        vertical-align: top;\n",
       "    }\n",
       "\n",
       "    .dataframe thead th {\n",
       "        text-align: right;\n",
       "    }\n",
       "</style>\n",
       "<table border=\"1\" class=\"dataframe\">\n",
       "  <thead>\n",
       "    <tr style=\"text-align: right;\">\n",
       "      <th></th>\n",
       "      <th>N</th>\n",
       "      <th>P</th>\n",
       "      <th>K</th>\n",
       "      <th>temperature</th>\n",
       "      <th>humidity</th>\n",
       "      <th>ph</th>\n",
       "      <th>rainfall</th>\n",
       "      <th>label</th>\n",
       "    </tr>\n",
       "  </thead>\n",
       "  <tbody>\n",
       "    <tr>\n",
       "      <th>0</th>\n",
       "      <td>90</td>\n",
       "      <td>42</td>\n",
       "      <td>43</td>\n",
       "      <td>20.879744</td>\n",
       "      <td>82.002744</td>\n",
       "      <td>6.502985</td>\n",
       "      <td>202.935536</td>\n",
       "      <td>rice</td>\n",
       "    </tr>\n",
       "    <tr>\n",
       "      <th>1</th>\n",
       "      <td>85</td>\n",
       "      <td>58</td>\n",
       "      <td>41</td>\n",
       "      <td>21.770462</td>\n",
       "      <td>80.319644</td>\n",
       "      <td>7.038096</td>\n",
       "      <td>226.655537</td>\n",
       "      <td>rice</td>\n",
       "    </tr>\n",
       "    <tr>\n",
       "      <th>2</th>\n",
       "      <td>60</td>\n",
       "      <td>55</td>\n",
       "      <td>44</td>\n",
       "      <td>23.004459</td>\n",
       "      <td>82.320763</td>\n",
       "      <td>7.840207</td>\n",
       "      <td>263.964248</td>\n",
       "      <td>rice</td>\n",
       "    </tr>\n",
       "    <tr>\n",
       "      <th>3</th>\n",
       "      <td>74</td>\n",
       "      <td>35</td>\n",
       "      <td>40</td>\n",
       "      <td>26.491096</td>\n",
       "      <td>80.158363</td>\n",
       "      <td>6.980401</td>\n",
       "      <td>242.864034</td>\n",
       "      <td>rice</td>\n",
       "    </tr>\n",
       "    <tr>\n",
       "      <th>4</th>\n",
       "      <td>78</td>\n",
       "      <td>42</td>\n",
       "      <td>42</td>\n",
       "      <td>20.130175</td>\n",
       "      <td>81.604873</td>\n",
       "      <td>7.628473</td>\n",
       "      <td>262.717340</td>\n",
       "      <td>rice</td>\n",
       "    </tr>\n",
       "  </tbody>\n",
       "</table>\n",
       "</div>"
      ],
      "text/plain": [
       "    N   P   K  temperature   humidity        ph    rainfall label\n",
       "0  90  42  43    20.879744  82.002744  6.502985  202.935536  rice\n",
       "1  85  58  41    21.770462  80.319644  7.038096  226.655537  rice\n",
       "2  60  55  44    23.004459  82.320763  7.840207  263.964248  rice\n",
       "3  74  35  40    26.491096  80.158363  6.980401  242.864034  rice\n",
       "4  78  42  42    20.130175  81.604873  7.628473  262.717340  rice"
      ]
     },
     "execution_count": 59,
     "metadata": {},
     "output_type": "execute_result"
    }
   ],
   "source": [
    "# to check dataset\n",
    "data.head()"
   ]
  },
  {
   "cell_type": "code",
   "execution_count": 63,
   "id": "1a0acbd1",
   "metadata": {},
   "outputs": [
    {
     "name": "stdout",
     "output_type": "stream",
     "text": [
      "The suggested crop for given climatic conditions is: ['rice']\n"
     ]
    }
   ],
   "source": [
    "prediction = model.predict((np.array([[90,\n",
    "                                      40,\n",
    "                                      40,\n",
    "                                      20,\n",
    "                                      82,\n",
    "                                      6.5,\n",
    "                                      202]])))\n",
    "print(\"The suggested crop for given climatic conditions is:\",prediction)"
   ]
  },
  {
   "cell_type": "code",
   "execution_count": 75,
   "id": "add46822",
   "metadata": {},
   "outputs": [
    {
     "data": {
      "text/html": [
       "<div>\n",
       "<style scoped>\n",
       "    .dataframe tbody tr th:only-of-type {\n",
       "        vertical-align: middle;\n",
       "    }\n",
       "\n",
       "    .dataframe tbody tr th {\n",
       "        vertical-align: top;\n",
       "    }\n",
       "\n",
       "    .dataframe thead th {\n",
       "        text-align: right;\n",
       "    }\n",
       "</style>\n",
       "<table border=\"1\" class=\"dataframe\">\n",
       "  <thead>\n",
       "    <tr style=\"text-align: right;\">\n",
       "      <th></th>\n",
       "      <th>N</th>\n",
       "      <th>P</th>\n",
       "      <th>K</th>\n",
       "      <th>temperature</th>\n",
       "      <th>humidity</th>\n",
       "      <th>ph</th>\n",
       "      <th>rainfall</th>\n",
       "      <th>label</th>\n",
       "    </tr>\n",
       "  </thead>\n",
       "  <tbody>\n",
       "    <tr>\n",
       "      <th>1000</th>\n",
       "      <td>91</td>\n",
       "      <td>94</td>\n",
       "      <td>46</td>\n",
       "      <td>29.367924</td>\n",
       "      <td>76.249001</td>\n",
       "      <td>6.149934</td>\n",
       "      <td>92.828409</td>\n",
       "      <td>banana</td>\n",
       "    </tr>\n",
       "    <tr>\n",
       "      <th>1001</th>\n",
       "      <td>105</td>\n",
       "      <td>95</td>\n",
       "      <td>50</td>\n",
       "      <td>27.333690</td>\n",
       "      <td>83.676752</td>\n",
       "      <td>5.849076</td>\n",
       "      <td>101.049479</td>\n",
       "      <td>banana</td>\n",
       "    </tr>\n",
       "    <tr>\n",
       "      <th>1002</th>\n",
       "      <td>108</td>\n",
       "      <td>92</td>\n",
       "      <td>53</td>\n",
       "      <td>27.400536</td>\n",
       "      <td>82.962213</td>\n",
       "      <td>6.276800</td>\n",
       "      <td>104.937800</td>\n",
       "      <td>banana</td>\n",
       "    </tr>\n",
       "    <tr>\n",
       "      <th>1003</th>\n",
       "      <td>86</td>\n",
       "      <td>76</td>\n",
       "      <td>54</td>\n",
       "      <td>29.315908</td>\n",
       "      <td>80.115857</td>\n",
       "      <td>5.926825</td>\n",
       "      <td>90.109781</td>\n",
       "      <td>banana</td>\n",
       "    </tr>\n",
       "    <tr>\n",
       "      <th>1004</th>\n",
       "      <td>80</td>\n",
       "      <td>77</td>\n",
       "      <td>49</td>\n",
       "      <td>26.054330</td>\n",
       "      <td>79.396545</td>\n",
       "      <td>5.519088</td>\n",
       "      <td>113.229737</td>\n",
       "      <td>banana</td>\n",
       "    </tr>\n",
       "  </tbody>\n",
       "</table>\n",
       "</div>"
      ],
      "text/plain": [
       "        N   P   K  temperature   humidity        ph    rainfall   label\n",
       "1000   91  94  46    29.367924  76.249001  6.149934   92.828409  banana\n",
       "1001  105  95  50    27.333690  83.676752  5.849076  101.049479  banana\n",
       "1002  108  92  53    27.400536  82.962213  6.276800  104.937800  banana\n",
       "1003   86  76  54    29.315908  80.115857  5.926825   90.109781  banana\n",
       "1004   80  77  49    26.054330  79.396545  5.519088  113.229737  banana"
      ]
     },
     "execution_count": 75,
     "metadata": {},
     "output_type": "execute_result"
    }
   ],
   "source": [
    "# check the model for banana\n",
    "data[data['label'] == 'banana'].head()"
   ]
  },
  {
   "cell_type": "code",
   "execution_count": 76,
   "id": "ca25e8ed",
   "metadata": {},
   "outputs": [
    {
     "name": "stdout",
     "output_type": "stream",
     "text": [
      "The suggested crop for given climatic conditions is: ['banana']\n"
     ]
    }
   ],
   "source": [
    "prediction = model.predict((np.array([[91,\n",
    "                                      94,\n",
    "                                      46,\n",
    "                                      28.36,\n",
    "                                      76.24,\n",
    "                                      6.14,\n",
    "                                      92.82]])))\n",
    "print(\"The suggested crop for given climatic conditions is:\", prediction)"
   ]
  },
  {
   "cell_type": "code",
   "execution_count": null,
   "id": "de667553",
   "metadata": {},
   "outputs": [],
   "source": []
  }
 ],
 "metadata": {
  "kernelspec": {
   "display_name": "Python 3 (ipykernel)",
   "language": "python",
   "name": "python3"
  },
  "language_info": {
   "codemirror_mode": {
    "name": "ipython",
    "version": 3
   },
   "file_extension": ".py",
   "mimetype": "text/x-python",
   "name": "python",
   "nbconvert_exporter": "python",
   "pygments_lexer": "ipython3",
   "version": "3.11.3"
  }
 },
 "nbformat": 4,
 "nbformat_minor": 5
}
